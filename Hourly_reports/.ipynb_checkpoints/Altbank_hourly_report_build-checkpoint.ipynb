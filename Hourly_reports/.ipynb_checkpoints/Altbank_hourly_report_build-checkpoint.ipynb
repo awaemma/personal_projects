{
 "cells": [
  {
   "cell_type": "code",
   "execution_count": 16,
   "id": "6abc855e",
   "metadata": {},
   "outputs": [],
   "source": [
    "import pandas as pd\n",
    "import psycopg2\n",
    "import numpy as np\n",
    "from datetime import date, datetime, timedelta\n",
    "import json\n",
    "import os\n",
    "import time"
   ]
  },
  {
   "cell_type": "code",
   "execution_count": 17,
   "id": "7a152b02",
   "metadata": {},
   "outputs": [],
   "source": [
    "#declaring system path\n",
    "sys_path = 'C:/Users/Adm_Awalem/Desktop/Hourly_reports/Altbank/'\n",
    "#declaing SQL script path\n",
    "folder_path = sys_path+'scripts'\n",
    "\n",
    "#accessing DB credentials\n",
    "f_open = open(sys_path + 'configurations.json')\n",
    "config = json.load(f_open)\n",
    "f_open.close()\n",
    "\n",
    "# #retrieving postgres connection details\n",
    "# server = config['DB_connection']['server']\n",
    "# transfer_database = config['DB_connection']['database']\n",
    "# username = config['DB_connection']['username']\n",
    "# password = config['DB_connection']['password']\n",
    "\n",
    "db_params = {\n",
    "    \"host\": config['DB_connection']['server'],\n",
    "    \"database\": config['DB_connection']['database'],\n",
    "    \"user\": config['DB_connection']['username'],\n",
    "    \"password\": config['DB_connection']['password'],\n",
    "    \"port\": config['DB_connection']['port']\n",
    "}"
   ]
  },
  {
   "cell_type": "code",
   "execution_count": 18,
   "id": "7b210936",
   "metadata": {},
   "outputs": [
    {
     "data": {
      "text/plain": [
       "{'host': 'dccb7d30b8ea.altbankv2-prod-serv.private.postgres.database.azure.com',\n",
       " 'database': 'Alt_TransferDB',\n",
       " 'user': 'Observability',\n",
       " 'password': 'EOAM_observed123',\n",
       " 'port': '5432'}"
      ]
     },
     "execution_count": 18,
     "metadata": {},
     "output_type": "execute_result"
    }
   ],
   "source": [
    "db_params "
   ]
  },
  {
   "cell_type": "code",
   "execution_count": null,
   "id": "2aa8a90a",
   "metadata": {},
   "outputs": [],
   "source": []
  }
 ],
 "metadata": {
  "kernelspec": {
   "display_name": "Python 3 (ipykernel)",
   "language": "python",
   "name": "python3"
  },
  "language_info": {
   "codemirror_mode": {
    "name": "ipython",
    "version": 3
   },
   "file_extension": ".py",
   "mimetype": "text/x-python",
   "name": "python",
   "nbconvert_exporter": "python",
   "pygments_lexer": "ipython3",
   "version": "3.11.4"
  }
 },
 "nbformat": 4,
 "nbformat_minor": 5
}
